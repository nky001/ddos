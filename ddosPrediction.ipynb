{
  "cells": [
    {
      "cell_type": "code",
      "execution_count": 12,
      "metadata": {
        "id": "eW5ibNOZAy8y"
      },
      "outputs": [],
      "source": [
        "import numpy as np\n",
        "import pandas as pd\n",
        "import ipaddress\n",
        "import seaborn as sn\n",
        "import pandas as pd                                                              \n",
        "import matplotlib.pyplot as plt\n",
        "from matplotlib.pyplot import figure\n",
        "from sklearn.model_selection import train_test_split\n",
        "from sklearn.naive_bayes import GaussianNB\n",
        "from sklearn.metrics import accuracy_score,precision_score,recall_score\n",
        "from sklearn.ensemble import RandomForestClassifier\n",
        "from sklearn.model_selection import train_test_split\n",
        "from sklearn.metrics import accuracy_score, confusion_matrix, classification_report\n",
        "from sklearn.preprocessing import LabelEncoder"
      ]
    },
    {
      "cell_type": "code",
      "execution_count": 2,
      "metadata": {
        "colab": {
          "base_uri": "https://localhost:8080/"
        },
        "id": "3KH-v7-UBRp1",
        "outputId": "c605afdd-c1bd-43a6-a1b8-7ce5043b784d"
      },
      "outputs": [
        {
          "name": "stdout",
          "output_type": "stream",
          "text": [
            "Downloading from https://www.kaggle.com/api/v1/datasets/download/devendra416/ddos-datasets?dataset_version_number=1...\n"
          ]
        },
        {
          "name": "stderr",
          "output_type": "stream",
          "text": [
            "100%|██████████| 2.68G/2.68G [02:30<00:00, 19.1MB/s]"
          ]
        },
        {
          "name": "stdout",
          "output_type": "stream",
          "text": [
            "Extracting files...\n"
          ]
        },
        {
          "name": "stderr",
          "output_type": "stream",
          "text": [
            "\n"
          ]
        },
        {
          "name": "stdout",
          "output_type": "stream",
          "text": [
            "Path to dataset files: /root/.cache/kagglehub/datasets/devendra416/ddos-datasets/versions/1\n"
          ]
        }
      ],
      "source": [
        "import kagglehub\n",
        "\n",
        "path = kagglehub.dataset_download(\"devendra416/ddos-datasets\")\n",
        "\n",
        "print(\"Path to dataset files:\", path)"
      ]
    },
    {
      "cell_type": "code",
      "execution_count": 3,
      "metadata": {
        "colab": {
          "base_uri": "https://localhost:8080/"
        },
        "id": "Nes0L87dBirC",
        "outputId": "a72de4c4-5933-40ad-81fa-6456cd248883"
      },
      "outputs": [
        {
          "name": "stdout",
          "output_type": "stream",
          "text": [
            "         Unnamed: 0                                  Flow ID          Src IP  \\\n",
            "0               624     192.168.4.118-203.73.24.75-4504-80-6   192.168.4.118   \n",
            "1               625     192.168.4.118-203.73.24.75-4504-80-6   192.168.4.118   \n",
            "2               626     192.168.4.118-203.73.24.75-4505-80-6   192.168.4.118   \n",
            "3               627     192.168.4.118-203.73.24.75-4505-80-6   192.168.4.118   \n",
            "4               628     192.168.4.118-203.73.24.75-4506-80-6   192.168.4.118   \n",
            "...             ...                                      ...             ...   \n",
            "3198651     1725894   172.31.67.50-209.85.203.113-53598-80-6  209.85.203.113   \n",
            "3198652     5681778   172.31.69.17-108.174.10.14-54599-443-6    172.31.69.17   \n",
            "3198653     6395326      172.31.0.2-172.31.65.49-53-61087-17    172.31.65.49   \n",
            "3198654     4926899      172.31.0.2-172.31.67.58-53-61580-17    172.31.67.58   \n",
            "3198655     7656685  169.254.169.254-172.31.65.89-80-49393-6    172.31.65.89   \n",
            "\n",
            "         Src Port           Dst IP  Dst Port  Protocol  \\\n",
            "0            4504     203.73.24.75        80         6   \n",
            "1            4504     203.73.24.75        80         6   \n",
            "2            4505     203.73.24.75        80         6   \n",
            "3            4505     203.73.24.75        80         6   \n",
            "4            4506     203.73.24.75        80         6   \n",
            "...           ...              ...       ...       ...   \n",
            "3198651        80     172.31.67.50     53598         6   \n",
            "3198652     54599    108.174.10.14       443         6   \n",
            "3198653     61087       172.31.0.2        53        17   \n",
            "3198654     61580       172.31.0.2        53        17   \n",
            "3198655     49393  169.254.169.254        80         6   \n",
            "\n",
            "                      Timestamp  Flow Duration  Tot Fwd Pkts  ...  \\\n",
            "0        12/06/2010 08:34:32 AM        3974862            29  ...   \n",
            "1        12/06/2010 08:34:36 AM             63             1  ...   \n",
            "2        12/06/2010 08:34:36 AM         476078             2  ...   \n",
            "3        12/06/2010 08:34:37 AM            151             2  ...   \n",
            "4        12/06/2010 08:34:37 AM         472507             2  ...   \n",
            "...                         ...            ...           ...  ...   \n",
            "3198651     20/02/2018 05:14:52             50             1  ...   \n",
            "3198652     20/02/2018 03:08:35            306             3  ...   \n",
            "3198653     20/02/2018 01:03:19            362             1  ...   \n",
            "3198654     20/02/2018 12:43:11            303             1  ...   \n",
            "3198655     20/02/2018 09:55:40             54             2  ...   \n",
            "\n",
            "         Fwd Seg Size Min  Active Mean  Active Std  Active Max  Active Min  \\\n",
            "0                       0          0.0         0.0         0.0         0.0   \n",
            "1                       0          0.0         0.0         0.0         0.0   \n",
            "2                       0          0.0         0.0         0.0         0.0   \n",
            "3                       0          0.0         0.0         0.0         0.0   \n",
            "4                       0          0.0         0.0         0.0         0.0   \n",
            "...                   ...          ...         ...         ...         ...   \n",
            "3198651                20          0.0         0.0         0.0         0.0   \n",
            "3198652                20          0.0         0.0         0.0         0.0   \n",
            "3198653                 8          0.0         0.0         0.0         0.0   \n",
            "3198654                 8          0.0         0.0         0.0         0.0   \n",
            "3198655                20          0.0         0.0         0.0         0.0   \n",
            "\n",
            "         Idle Mean  Idle Std  Idle Max  Idle Min   Label  \n",
            "0              0.0       0.0       0.0       0.0    ddos  \n",
            "1              0.0       0.0       0.0       0.0    ddos  \n",
            "2              0.0       0.0       0.0       0.0    ddos  \n",
            "3              0.0       0.0       0.0       0.0    ddos  \n",
            "4              0.0       0.0       0.0       0.0    ddos  \n",
            "...            ...       ...       ...       ...     ...  \n",
            "3198651        0.0       0.0       0.0       0.0  Benign  \n",
            "3198652        0.0       0.0       0.0       0.0  Benign  \n",
            "3198653        0.0       0.0       0.0       0.0  Benign  \n",
            "3198654        0.0       0.0       0.0       0.0  Benign  \n",
            "3198655        0.0       0.0       0.0       0.0  Benign  \n",
            "\n",
            "[3198656 rows x 85 columns]\n"
          ]
        }
      ],
      "source": [
        "total_rows = sum(1 for _ in open(f'{path}/ddos_balanced/final_dataset.csv')) - 1\n",
        "\n",
        "rows_to_read = total_rows // 8\n",
        "\n",
        "first_part = pd.read_csv(f'{path}/ddos_balanced/final_dataset.csv', nrows=rows_to_read)\n",
        "\n",
        "rows_to_skip = total_rows - rows_to_read\n",
        "\n",
        "last_part = pd.read_csv(f'{path}/ddos_balanced/final_dataset.csv', skiprows=range(1, rows_to_skip + 1))\n",
        "\n",
        "balance_data = pd.concat([first_part, last_part], ignore_index=True)\n",
        "\n",
        "print(balance_data)"
      ]
    },
    {
      "cell_type": "code",
      "execution_count": 4,
      "metadata": {
        "colab": {
          "base_uri": "https://localhost:8080/",
          "height": 675
        },
        "id": "VKoHRWEqC_Mx",
        "outputId": "588d74fa-6e94-40cb-c336-388e6d557e2d"
      },
      "outputs": [
        {
          "data": {
            "image/png": "[encoded data removed]",
            "text/plain": [
              "<Figure size 1300x800 with 1 Axes>"
            ]
          },
          "metadata": {},
          "output_type": "display_data"
        }
      ],
      "source": [
        "Label = ['DDoS','Benign']\n",
        "sizes = [balance_data['Label'].value_counts()['ddos'], balance_data['Label'].value_counts()['Benign']]\n",
        "plt.figure(figsize = (13,8))\n",
        "colors = sn.color_palette(\"Set2\")\n",
        "plt.pie(sizes, labels=Label, autopct='%1.1f%%',shadow=True, startangle=90,colors=colors)\n",
        "plt.legend(['DDoS', 'Benign'])\n",
        "plt.title('The percentage of Benign and DDoS Requests in dataset')\n",
        "plt.show()"
      ]
    },
    {
      "cell_type": "code",
      "execution_count": 6,
      "metadata": {
        "colab": {
          "base_uri": "https://localhost:8080/"
        },
        "id": "Pcqg4cBKDCAl",
        "outputId": "4ca1b7a9-f88b-47d9-b051-c09c7899b6dd"
      },
      "outputs": [
        {
          "data": {
            "text/plain": [
              "(3198656, 85)"
            ]
          },
          "execution_count": 6,
          "metadata": {},
          "output_type": "execute_result"
        }
      ],
      "source": [
        "balance_data.shape"
      ]
    },
    {
      "cell_type": "code",
      "execution_count": 7,
      "metadata": {
        "colab": {
          "base_uri": "https://localhost:8080/",
          "height": 495
        },
        "id": "X2LE1_jhDHG3",
        "outputId": "806939c3-514c-4202-bc8a-781b3ca4a2ce"
      },
      "outputs": [
        {
          "data": {
            "application/vnd.google.colaboratory.intrinsic+json": {
              "type": "dataframe",
              "variable_name": "balance_data"
            },
            "text/html": [
              "\n",
              "  <div id=\"df-c020e99b-740a-4cc8-acab-f629229d00bf\" class=\"colab-df-container\">\n",
              "    <div>\n",
              "<style scoped>\n",
              "    .dataframe tbody tr th:only-of-type {\n",
              "        vertical-align: middle;\n",
              "    }\n",
              "\n",
              "    .dataframe tbody tr th {\n",
              "        vertical-align: top;\n",
              "    }\n",
              "\n",
              "    .dataframe thead th {\n",
              "        text-align: right;\n",
              "    }\n",
              "</style>\n",
              "<table border=\"1\" class=\"dataframe\">\n",
              "  <thead>\n",
              "    <tr style=\"text-align: right;\">\n",
              "      <th></th>\n",
              "      <th>Flow Duration</th>\n",
              "      <th>Src IP</th>\n",
              "      <th>Src Port</th>\n",
              "      <th>Dst IP</th>\n",
              "      <th>Dst Port</th>\n",
              "      <th>Tot Fwd Pkts</th>\n",
              "      <th>Init Bwd Win Byts</th>\n",
              "      <th>Protocol</th>\n",
              "      <th>Label</th>\n",
              "    </tr>\n",
              "  </thead>\n",
              "  <tbody>\n",
              "    <tr>\n",
              "      <th>0</th>\n",
              "      <td>3974862</td>\n",
              "      <td>192.168.4.118</td>\n",
              "      <td>4504</td>\n",
              "      <td>203.73.24.75</td>\n",
              "      <td>80</td>\n",
              "      <td>29</td>\n",
              "      <td>5840</td>\n",
              "      <td>6</td>\n",
              "      <td>ddos</td>\n",
              "    </tr>\n",
              "    <tr>\n",
              "      <th>1</th>\n",
              "      <td>63</td>\n",
              "      <td>192.168.4.118</td>\n",
              "      <td>4504</td>\n",
              "      <td>203.73.24.75</td>\n",
              "      <td>80</td>\n",
              "      <td>1</td>\n",
              "      <td>17520</td>\n",
              "      <td>6</td>\n",
              "      <td>ddos</td>\n",
              "    </tr>\n",
              "    <tr>\n",
              "      <th>2</th>\n",
              "      <td>476078</td>\n",
              "      <td>192.168.4.118</td>\n",
              "      <td>4505</td>\n",
              "      <td>203.73.24.75</td>\n",
              "      <td>80</td>\n",
              "      <td>2</td>\n",
              "      <td>5840</td>\n",
              "      <td>6</td>\n",
              "      <td>ddos</td>\n",
              "    </tr>\n",
              "    <tr>\n",
              "      <th>3</th>\n",
              "      <td>151</td>\n",
              "      <td>192.168.4.118</td>\n",
              "      <td>4505</td>\n",
              "      <td>203.73.24.75</td>\n",
              "      <td>80</td>\n",
              "      <td>2</td>\n",
              "      <td>17520</td>\n",
              "      <td>6</td>\n",
              "      <td>ddos</td>\n",
              "    </tr>\n",
              "    <tr>\n",
              "      <th>4</th>\n",
              "      <td>472507</td>\n",
              "      <td>192.168.4.118</td>\n",
              "      <td>4506</td>\n",
              "      <td>203.73.24.75</td>\n",
              "      <td>80</td>\n",
              "      <td>2</td>\n",
              "      <td>5840</td>\n",
              "      <td>6</td>\n",
              "      <td>ddos</td>\n",
              "    </tr>\n",
              "    <tr>\n",
              "      <th>...</th>\n",
              "      <td>...</td>\n",
              "      <td>...</td>\n",
              "      <td>...</td>\n",
              "      <td>...</td>\n",
              "      <td>...</td>\n",
              "      <td>...</td>\n",
              "      <td>...</td>\n",
              "      <td>...</td>\n",
              "      <td>...</td>\n",
              "    </tr>\n",
              "    <tr>\n",
              "      <th>3198651</th>\n",
              "      <td>50</td>\n",
              "      <td>209.85.203.113</td>\n",
              "      <td>80</td>\n",
              "      <td>172.31.67.50</td>\n",
              "      <td>53598</td>\n",
              "      <td>1</td>\n",
              "      <td>255</td>\n",
              "      <td>6</td>\n",
              "      <td>Benign</td>\n",
              "    </tr>\n",
              "    <tr>\n",
              "      <th>3198652</th>\n",
              "      <td>306</td>\n",
              "      <td>172.31.69.17</td>\n",
              "      <td>54599</td>\n",
              "      <td>108.174.10.14</td>\n",
              "      <td>443</td>\n",
              "      <td>3</td>\n",
              "      <td>-1</td>\n",
              "      <td>6</td>\n",
              "      <td>Benign</td>\n",
              "    </tr>\n",
              "    <tr>\n",
              "      <th>3198653</th>\n",
              "      <td>362</td>\n",
              "      <td>172.31.65.49</td>\n",
              "      <td>61087</td>\n",
              "      <td>172.31.0.2</td>\n",
              "      <td>53</td>\n",
              "      <td>1</td>\n",
              "      <td>-1</td>\n",
              "      <td>17</td>\n",
              "      <td>Benign</td>\n",
              "    </tr>\n",
              "    <tr>\n",
              "      <th>3198654</th>\n",
              "      <td>303</td>\n",
              "      <td>172.31.67.58</td>\n",
              "      <td>61580</td>\n",
              "      <td>172.31.0.2</td>\n",
              "      <td>53</td>\n",
              "      <td>1</td>\n",
              "      <td>-1</td>\n",
              "      <td>17</td>\n",
              "      <td>Benign</td>\n",
              "    </tr>\n",
              "    <tr>\n",
              "      <th>3198655</th>\n",
              "      <td>54</td>\n",
              "      <td>172.31.65.89</td>\n",
              "      <td>49393</td>\n",
              "      <td>169.254.169.254</td>\n",
              "      <td>80</td>\n",
              "      <td>2</td>\n",
              "      <td>-1</td>\n",
              "      <td>6</td>\n",
              "      <td>Benign</td>\n",
              "    </tr>\n",
              "  </tbody>\n",
              "</table>\n",
              "<p>3198656 rows × 9 columns</p>\n",
              "</div>\n",
              "    <div class=\"colab-df-buttons\">\n",
              "\n",
              "  <div class=\"colab-df-container\">\n",
              "    <button class=\"colab-df-convert\" onclick=\"convertToInteractive('df-c020e99b-740a-4cc8-acab-f629229d00bf')\"\n",
              "            title=\"Convert this dataframe to an interactive table.\"\n",
              "            style=\"display:none;\">\n",
              "\n",
              "  <svg xmlns=\"http://www.w3.org/2000/svg\" height=\"24px\" viewBox=\"0 -960 960 960\">\n",
              "    <path d=\"M120-120v-720h720v720H120Zm60-500h600v-160H180v160Zm220 220h160v-160H400v160Zm0 220h160v-160H400v160ZM180-400h160v-160H180v160Zm440 0h160v-160H620v160ZM180-180h160v-160H180v160Zm440 0h160v-160H620v160Z\"/>\n",
              "  </svg>\n",
              "    </button>\n",
              "\n",
              "  <style>\n",
              "    .colab-df-container {\n",
              "      display:flex;\n",
              "      gap: 12px;\n",
              "    }\n",
              "\n",
              "    .colab-df-convert {\n",
              "      background-color: #E8F0FE;\n",
              "      border: none;\n",
              "      border-radius: 50%;\n",
              "      cursor: pointer;\n",
              "      display: none;\n",
              "      fill: #1967D2;\n",
              "      height: 32px;\n",
              "      padding: 0 0 0 0;\n",
              "      width: 32px;\n",
              "    }\n",
              "\n",
              "    .colab-df-convert:hover {\n",
              "      background-color: #E2EBFA;\n",
              "      box-shadow: 0px 1px 2px rgba(60, 64, 67, 0.3), 0px 1px 3px 1px rgba(60, 64, 67, 0.15);\n",
              "      fill: #174EA6;\n",
              "    }\n",
              "\n",
              "    .colab-df-buttons div {\n",
              "      margin-bottom: 4px;\n",
              "    }\n",
              "\n",
              "    [theme=dark] .colab-df-convert {\n",
              "      background-color: #3B4455;\n",
              "      fill: #D2E3FC;\n",
              "    }\n",
              "\n",
              "    [theme=dark] .colab-df-convert:hover {\n",
              "      background-color: #434B5C;\n",
              "      box-shadow: 0px 1px 3px 1px rgba(0, 0, 0, 0.15);\n",
              "      filter: drop-shadow(0px 1px 2px rgba(0, 0, 0, 0.3));\n",
              "      fill: #FFFFFF;\n",
              "    }\n",
              "  </style>\n",
              "\n",
              "    <script>\n",
              "      const buttonEl =\n",
              "        document.querySelector('#df-c020e99b-740a-4cc8-acab-f629229d00bf button.colab-df-convert');\n",
              "      buttonEl.style.display =\n",
              "        google.colab.kernel.accessAllowed ? 'block' : 'none';\n",
              "\n",
              "      async function convertToInteractive(key) {\n",
              "        const element = document.querySelector('#df-c020e99b-740a-4cc8-acab-f629229d00bf');\n",
              "        const dataTable =\n",
              "          await google.colab.kernel.invokeFunction('convertToInteractive',\n",
              "                                                    [key], {});\n",
              "        if (!dataTable) return;\n",
              "\n",
              "        const docLinkHtml = 'Like what you see? Visit the ' +\n",
              "          '<a target=\"_blank\" href=https://colab.research.google.com/notebooks/data_table.ipynb>data table notebook</a>'\n",
              "          + ' to learn more about interactive tables.';\n",
              "        element.innerHTML = '';\n",
              "        dataTable['output_type'] = 'display_data';\n",
              "        await google.colab.output.renderOutput(dataTable, element);\n",
              "        const docLink = document.createElement('div');\n",
              "        docLink.innerHTML = docLinkHtml;\n",
              "        element.appendChild(docLink);\n",
              "      }\n",
              "    </script>\n",
              "  </div>\n",
              "\n",
              "\n",
              "<div id=\"df-3f729ea0-7a5b-42c3-a373-5d269ffd4893\">\n",
              "  <button class=\"colab-df-quickchart\" onclick=\"quickchart('df-3f729ea0-7a5b-42c3-a373-5d269ffd4893')\"\n",
              "            title=\"Suggest charts\"\n",
              "            style=\"display:none;\">\n",
              "\n",
              "<svg xmlns=\"http://www.w3.org/2000/svg\" height=\"24px\"viewBox=\"0 0 24 24\"\n",
              "     width=\"24px\">\n",
              "    <g>\n",
              "        <path d=\"M19 3H5c-1.1 0-2 .9-2 2v14c0 1.1.9 2 2 2h14c1.1 0 2-.9 2-2V5c0-1.1-.9-2-2-2zM9 17H7v-7h2v7zm4 0h-2V7h2v10zm4 0h-2v-4h2v4z\"/>\n",
              "    </g>\n",
              "</svg>\n",
              "  </button>\n",
              "\n",
              "<style>\n",
              "  .colab-df-quickchart {\n",
              "      --bg-color: #E8F0FE;\n",
              "      --fill-color: #1967D2;\n",
              "      --hover-bg-color: #E2EBFA;\n",
              "      --hover-fill-color: #174EA6;\n",
              "      --disabled-fill-color: #AAA;\n",
              "      --disabled-bg-color: #DDD;\n",
              "  }\n",
              "\n",
              "  [theme=dark] .colab-df-quickchart {\n",
              "      --bg-color: #3B4455;\n",
              "      --fill-color: #D2E3FC;\n",
              "      --hover-bg-color: #434B5C;\n",
              "      --hover-fill-color: #FFFFFF;\n",
              "      --disabled-bg-color: #3B4455;\n",
              "      --disabled-fill-color: #666;\n",
              "  }\n",
              "\n",
              "  .colab-df-quickchart {\n",
              "    background-color: var(--bg-color);\n",
              "    border: none;\n",
              "    border-radius: 50%;\n",
              "    cursor: pointer;\n",
              "    display: none;\n",
              "    fill: var(--fill-color);\n",
              "    height: 32px;\n",
              "    padding: 0;\n",
              "    width: 32px;\n",
              "  }\n",
              "\n",
              "  .colab-df-quickchart:hover {\n",
              "    background-color: var(--hover-bg-color);\n",
              "    box-shadow: 0 1px 2px rgba(60, 64, 67, 0.3), 0 1px 3px 1px rgba(60, 64, 67, 0.15);\n",
              "    fill: var(--button-hover-fill-color);\n",
              "  }\n",
              "\n",
              "  .colab-df-quickchart-complete:disabled,\n",
              "  .colab-df-quickchart-complete:disabled:hover {\n",
              "    background-color: var(--disabled-bg-color);\n",
              "    fill: var(--disabled-fill-color);\n",
              "    box-shadow: none;\n",
              "  }\n",
              "\n",
              "  .colab-df-spinner {\n",
              "    border: 2px solid var(--fill-color);\n",
              "    border-color: transparent;\n",
              "    border-bottom-color: var(--fill-color);\n",
              "    animation:\n",
              "      spin 1s steps(1) infinite;\n",
              "  }\n",
              "\n",
              "  @keyframes spin {\n",
              "    0% {\n",
              "      border-color: transparent;\n",
              "      border-bottom-color: var(--fill-color);\n",
              "      border-left-color: var(--fill-color);\n",
              "    }\n",
              "    20% {\n",
              "      border-color: transparent;\n",
              "      border-left-color: var(--fill-color);\n",
              "      border-top-color: var(--fill-color);\n",
              "    }\n",
              "    30% {\n",
              "      border-color: transparent;\n",
              "      border-left-color: var(--fill-color);\n",
              "      border-top-color: var(--fill-color);\n",
              "      border-right-color: var(--fill-color);\n",
              "    }\n",
              "    40% {\n",
              "      border-color: transparent;\n",
              "      border-right-color: var(--fill-color);\n",
              "      border-top-color: var(--fill-color);\n",
              "    }\n",
              "    60% {\n",
              "      border-color: transparent;\n",
              "      border-right-color: var(--fill-color);\n",
              "    }\n",
              "    80% {\n",
              "      border-color: transparent;\n",
              "      border-right-color: var(--fill-color);\n",
              "      border-bottom-color: var(--fill-color);\n",
              "    }\n",
              "    90% {\n",
              "      border-color: transparent;\n",
              "      border-bottom-color: var(--fill-color);\n",
              "    }\n",
              "  }\n",
              "</style>\n",
              "\n",
              "  <script>\n",
              "    async function quickchart(key) {\n",
              "      const quickchartButtonEl =\n",
              "        document.querySelector('#' + key + ' button');\n",
              "      quickchartButtonEl.disabled = true;  // To prevent multiple clicks.\n",
              "      quickchartButtonEl.classList.add('colab-df-spinner');\n",
              "      try {\n",
              "        const charts = await google.colab.kernel.invokeFunction(\n",
              "            'suggestCharts', [key], {});\n",
              "      } catch (error) {\n",
              "        console.error('Error during call to suggestCharts:', error);\n",
              "      }\n",
              "      quickchartButtonEl.classList.remove('colab-df-spinner');\n",
              "      quickchartButtonEl.classList.add('colab-df-quickchart-complete');\n",
              "    }\n",
              "    (() => {\n",
              "      let quickchartButtonEl =\n",
              "        document.querySelector('#df-3f729ea0-7a5b-42c3-a373-5d269ffd4893 button');\n",
              "      quickchartButtonEl.style.display =\n",
              "        google.colab.kernel.accessAllowed ? 'block' : 'none';\n",
              "    })();\n",
              "  </script>\n",
              "</div>\n",
              "\n",
              "  <div id=\"id_b3083825-a8ff-4162-870b-38377799663b\">\n",
              "    <style>\n",
              "      .colab-df-generate {\n",
              "        background-color: #E8F0FE;\n",
              "        border: none;\n",
              "        border-radius: 50%;\n",
              "        cursor: pointer;\n",
              "        display: none;\n",
              "        fill: #1967D2;\n",
              "        height: 32px;\n",
              "        padding: 0 0 0 0;\n",
              "        width: 32px;\n",
              "      }\n",
              "\n",
              "      .colab-df-generate:hover {\n",
              "        background-color: #E2EBFA;\n",
              "        box-shadow: 0px 1px 2px rgba(60, 64, 67, 0.3), 0px 1px 3px 1px rgba(60, 64, 67, 0.15);\n",
              "        fill: #174EA6;\n",
              "      }\n",
              "\n",
              "      [theme=dark] .colab-df-generate {\n",
              "        background-color: #3B4455;\n",
              "        fill: #D2E3FC;\n",
              "      }\n",
              "\n",
              "      [theme=dark] .colab-df-generate:hover {\n",
              "        background-color: #434B5C;\n",
              "        box-shadow: 0px 1px 3px 1px rgba(0, 0, 0, 0.15);\n",
              "        filter: drop-shadow(0px 1px 2px rgba(0, 0, 0, 0.3));\n",
              "        fill: #FFFFFF;\n",
              "      }\n",
              "    </style>\n",
              "    <button class=\"colab-df-generate\" onclick=\"generateWithVariable('balance_data')\"\n",
              "            title=\"Generate code using this dataframe.\"\n",
              "            style=\"display:none;\">\n",
              "\n",
              "  <svg xmlns=\"http://www.w3.org/2000/svg\" height=\"24px\"viewBox=\"0 0 24 24\"\n",
              "       width=\"24px\">\n",
              "    <path d=\"M7,19H8.4L18.45,9,17,7.55,7,17.6ZM5,21V16.75L18.45,3.32a2,2,0,0,1,2.83,0l1.4,1.43a1.91,1.91,0,0,1,.58,1.4,1.91,1.91,0,0,1-.58,1.4L9.25,21ZM18.45,9,17,7.55Zm-12,3A5.31,5.31,0,0,0,4.9,8.1,5.31,5.31,0,0,0,1,6.5,5.31,5.31,0,0,0,4.9,4.9,5.31,5.31,0,0,0,6.5,1,5.31,5.31,0,0,0,8.1,4.9,5.31,5.31,0,0,0,12,6.5,5.46,5.46,0,0,0,6.5,12Z\"/>\n",
              "  </svg>\n",
              "    </button>\n",
              "    <script>\n",
              "      (() => {\n",
              "      const buttonEl =\n",
              "        document.querySelector('#id_b3083825-a8ff-4162-870b-38377799663b button.colab-df-generate');\n",
              "      buttonEl.style.display =\n",
              "        google.colab.kernel.accessAllowed ? 'block' : 'none';\n",
              "\n",
              "      buttonEl.onclick = () => {\n",
              "        google.colab.notebook.generateWithVariable('balance_data');\n",
              "      }\n",
              "      })();\n",
              "    </script>\n",
              "  </div>\n",
              "\n",
              "    </div>\n",
              "  </div>\n"
            ],
            "text/plain": [
              "         Flow Duration          Src IP  Src Port           Dst IP  Dst Port  \\\n",
              "0              3974862   192.168.4.118      4504     203.73.24.75        80   \n",
              "1                   63   192.168.4.118      4504     203.73.24.75        80   \n",
              "2               476078   192.168.4.118      4505     203.73.24.75        80   \n",
              "3                  151   192.168.4.118      4505     203.73.24.75        80   \n",
              "4               472507   192.168.4.118      4506     203.73.24.75        80   \n",
              "...                ...             ...       ...              ...       ...   \n",
              "3198651             50  209.85.203.113        80     172.31.67.50     53598   \n",
              "3198652            306    172.31.69.17     54599    108.174.10.14       443   \n",
              "3198653            362    172.31.65.49     61087       172.31.0.2        53   \n",
              "3198654            303    172.31.67.58     61580       172.31.0.2        53   \n",
              "3198655             54    172.31.65.89     49393  169.254.169.254        80   \n",
              "\n",
              "         Tot Fwd Pkts  Init Bwd Win Byts  Protocol   Label  \n",
              "0                  29               5840         6    ddos  \n",
              "1                   1              17520         6    ddos  \n",
              "2                   2               5840         6    ddos  \n",
              "3                   2              17520         6    ddos  \n",
              "4                   2               5840         6    ddos  \n",
              "...               ...                ...       ...     ...  \n",
              "3198651             1                255         6  Benign  \n",
              "3198652             3                 -1         6  Benign  \n",
              "3198653             1                 -1        17  Benign  \n",
              "3198654             1                 -1        17  Benign  \n",
              "3198655             2                 -1         6  Benign  \n",
              "\n",
              "[3198656 rows x 9 columns]"
            ]
          },
          "execution_count": 7,
          "metadata": {},
          "output_type": "execute_result"
        }
      ],
      "source": [
        "balance_data = balance_data[['Flow Duration','Src IP','Src Port','Dst IP','Dst Port','Tot Fwd Pkts','Init Bwd Win Byts','Protocol','Label']]\n",
        "balance_data = balance_data.astype({'Src IP':'string','Dst IP':'string','Label':'string'})\n",
        "balance_data"
      ]
    },
    {
      "cell_type": "code",
      "execution_count": 8,
      "metadata": {
        "colab": {
          "base_uri": "https://localhost:8080/",
          "height": 366
        },
        "id": "GgNFO998DKcE",
        "outputId": "2cddef78-fab3-4d1c-e4bc-3aa87519922e"
      },
      "outputs": [
        {
          "data": {
            "text/html": [
              "<div>\n",
              "<style scoped>\n",
              "    .dataframe tbody tr th:only-of-type {\n",
              "        vertical-align: middle;\n",
              "    }\n",
              "\n",
              "    .dataframe tbody tr th {\n",
              "        vertical-align: top;\n",
              "    }\n",
              "\n",
              "    .dataframe thead th {\n",
              "        text-align: right;\n",
              "    }\n",
              "</style>\n",
              "<table border=\"1\" class=\"dataframe\">\n",
              "  <thead>\n",
              "    <tr style=\"text-align: right;\">\n",
              "      <th></th>\n",
              "      <th>0</th>\n",
              "    </tr>\n",
              "  </thead>\n",
              "  <tbody>\n",
              "    <tr>\n",
              "      <th>Flow Duration</th>\n",
              "      <td>0</td>\n",
              "    </tr>\n",
              "    <tr>\n",
              "      <th>Src IP</th>\n",
              "      <td>0</td>\n",
              "    </tr>\n",
              "    <tr>\n",
              "      <th>Src Port</th>\n",
              "      <td>0</td>\n",
              "    </tr>\n",
              "    <tr>\n",
              "      <th>Dst IP</th>\n",
              "      <td>0</td>\n",
              "    </tr>\n",
              "    <tr>\n",
              "      <th>Dst Port</th>\n",
              "      <td>0</td>\n",
              "    </tr>\n",
              "    <tr>\n",
              "      <th>Tot Fwd Pkts</th>\n",
              "      <td>0</td>\n",
              "    </tr>\n",
              "    <tr>\n",
              "      <th>Init Bwd Win Byts</th>\n",
              "      <td>0</td>\n",
              "    </tr>\n",
              "    <tr>\n",
              "      <th>Protocol</th>\n",
              "      <td>0</td>\n",
              "    </tr>\n",
              "    <tr>\n",
              "      <th>Label</th>\n",
              "      <td>0</td>\n",
              "    </tr>\n",
              "  </tbody>\n",
              "</table>\n",
              "</div><br><label><b>dtype:</b> int64</label>"
            ],
            "text/plain": [
              "Flow Duration        0\n",
              "Src IP               0\n",
              "Src Port             0\n",
              "Dst IP               0\n",
              "Dst Port             0\n",
              "Tot Fwd Pkts         0\n",
              "Init Bwd Win Byts    0\n",
              "Protocol             0\n",
              "Label                0\n",
              "dtype: int64"
            ]
          },
          "execution_count": 8,
          "metadata": {},
          "output_type": "execute_result"
        }
      ],
      "source": [
        "balance_data.isnull().sum()"
      ]
    },
    {
      "cell_type": "code",
      "execution_count": 9,
      "metadata": {
        "colab": {
          "base_uri": "https://localhost:8080/"
        },
        "id": "vush8V6gDMy0",
        "outputId": "6510a8a9-6997-45c6-90d7-10755090162f"
      },
      "outputs": [
        {
          "name": "stdout",
          "output_type": "stream",
          "text": [
            "Src IP\n",
            "172.31.69.28      245005\n",
            "18.216.200.189    125859\n",
            "18.218.229.235    125686\n",
            "18.218.115.60     125203\n",
            "18.218.11.51      124881\n",
            "18.216.24.42      124612\n",
            "18.219.9.1        124608\n",
            "18.219.32.43      124590\n",
            "18.218.55.126     124464\n",
            "52.14.136.135     124040\n",
            "Name: count, dtype: Int64\n",
            "[245005, 125859, 125686, 125203, 124881, 124612, 124608, 124590, 124464, 124040]\n",
            "['172.31.69.28', '18.216.200.189', '18.218.229.235', '18.218.115.60', '18.218.11.51', '18.216.24.42', '18.219.9.1', '18.219.32.43', '18.218.55.126', '52.14.136.135']\n"
          ]
        }
      ],
      "source": [
        "Selected_data=balance_data.loc[balance_data['Label'] == 'ddos'] # row with DDoS label\n",
        "print(Selected_data['Src IP'].value_counts().nlargest(10))\n",
        "IPcount=Selected_data['Src IP'].value_counts().nlargest(10).tolist() # times of appearance\n",
        "IPs=Selected_data['Src IP'].value_counts()[:10].index.tolist() # the IP\n",
        "print(IPcount)\n",
        "print(IPs)"
      ]
    },
    {
      "cell_type": "code",
      "execution_count": 10,
      "metadata": {
        "id": "obXUrPOADViO"
      },
      "outputs": [],
      "source": [
        "balance_data['Src IP'] = balance_data['Src IP'].apply(lambda x: int(ipaddress.IPv4Address(x)))\n",
        "balance_data['Dst IP'] = balance_data['Dst IP'].apply(lambda x: int(ipaddress.IPv4Address(x)))"
      ]
    },
    {
      "cell_type": "code",
      "execution_count": 11,
      "metadata": {
        "colab": {
          "base_uri": "https://localhost:8080/",
          "height": 560
        },
        "id": "KDTFJ7MXDY5-",
        "outputId": "b3dc15e5-9de9-4c88-b2d9-20596fe9c123"
      },
      "outputs": [
        {
          "data": {
            "text/plain": [
              "<Axes: >"
            ]
          },
          "execution_count": 11,
          "metadata": {},
          "output_type": "execute_result"
        },
        {
          "data": {
            "image/png": "[encoded data removed]",
            "text/plain": [
              "<Figure size 640x480 with 2 Axes>"
            ]
          },
          "metadata": {},
          "output_type": "display_data"
        }
      ],
      "source": [
        "corr = balance_data.iloc[:,:-1].corr(method=\"pearson\")\n",
        "cmap = sn.diverging_palette(250,354,80,60,center='dark',as_cmap=True)\n",
        "sn.heatmap(corr, vmax=1, vmin=-.5, cmap=cmap, square=True, linewidths=.2)"
      ]
    },
    {
      "cell_type": "code",
      "execution_count": 13,
      "metadata": {
        "colab": {
          "base_uri": "https://localhost:8080/"
        },
        "id": "HpWhZtHXDdGd",
        "outputId": "3cbd0c71-abea-4265-a249-18820c927214"
      },
      "outputs": [
        {
          "name": "stdout",
          "output_type": "stream",
          "text": [
            "Accuracy: 1.0\n",
            "Confusion Matrix:\n",
            " [[320259      0]\n",
            " [     0 319473]]\n",
            "Classification Report:\n",
            "               precision    recall  f1-score   support\n",
            "\n",
            "      Benign       1.00      1.00      1.00    320259\n",
            "        ddos       1.00      1.00      1.00    319473\n",
            "\n",
            "    accuracy                           1.00    639732\n",
            "   macro avg       1.00      1.00      1.00    639732\n",
            "weighted avg       1.00      1.00      1.00    639732\n",
            "\n",
            "Feature ranking:\n",
            "1. Feature Src IP (0.2748659060289034)\n",
            "2. Feature Dst IP (0.21544510264375952)\n",
            "3. Feature Init Bwd Win Byts (0.1774831279393335)\n",
            "4. Feature Dst Port (0.10990541062686651)\n",
            "5. Feature Src Port (0.07148405218753207)\n",
            "6. Feature Tot Fwd Pkts (0.07049996083327288)\n",
            "7. Feature Flow Duration (0.05648045714215716)\n",
            "8. Feature Protocol (0.02383598259817504)\n"
          ]
        }
      ],
      "source": [
        "X = balance_data.drop(columns=['Label'])\n",
        "Y = balance_data.Label\n",
        "\n",
        "# X_train, X_test, y_train, y_test = train_test_split(X, Y, test_size = 0.20, random_state =44)\n",
        "\n",
        "label_encoder = LabelEncoder()\n",
        "\n",
        "\n",
        "X_train, X_test, y_train, y_test = train_test_split(X, Y, test_size=0.2, random_state=42)\n",
        "\n",
        "# Step 4: Train the Random Forest Classifier\n",
        "rf = RandomForestClassifier(n_estimators=100, random_state=42)\n",
        "rf.fit(X_train, y_train)\n",
        "\n",
        "# Step 5: Make Predictions\n",
        "y_pred = rf.predict(X_test)\n",
        "\n",
        "# Step 6: Evaluate the Model\n",
        "print(\"Accuracy:\", accuracy_score(y_test, y_pred))\n",
        "print(\"Confusion Matrix:\\n\", confusion_matrix(y_test, y_pred))\n",
        "print(\"Classification Report:\\n\", classification_report(y_test, y_pred))\n",
        "\n",
        "# Step 7: Feature Importance (Optional - to understand which features are most important)\n",
        "importances = rf.feature_importances_\n",
        "indices = np.argsort(importances)[::-1]\n",
        "feature_names = X.columns\n",
        "\n",
        "print(\"Feature ranking:\")\n",
        "for f in range(X.shape[1]):\n",
        "    print(f\"{f + 1}. Feature {feature_names[indices[f]]} ({importances[indices[f]]})\")"
      ]
    },
    {
      "cell_type": "code",
      "execution_count": 15,
      "metadata": {
        "colab": {
          "base_uri": "https://localhost:8080/"
        },
        "id": "Nt_Oqp2oEu80",
        "outputId": "e2096940-b6ec-463d-9c3a-e170e122a38c"
      },
      "outputs": [
        {
          "name": "stdout",
          "output_type": "stream",
          "text": [
            "Training-set accuracy score: 81.9011%\n",
            "Model accuracy score: 81.8724%\n"
          ]
        }
      ],
      "source": [
        "# Separating the target variable\n",
        "X = balance_data.drop(columns=['Label'])\n",
        "Y = balance_data.Label\n",
        "\n",
        "# splitting the data into test and train with test size of 20%\n",
        "X_train, X_test, y_train, y_test = train_test_split(X, Y, test_size = 0.20, random_state =44)\n",
        "\n",
        "# instantiate the model\n",
        "classifier = GaussianNB()\n",
        "\n",
        "# fit the model\n",
        "classifier.fit(X_train, y_train)\n",
        "\n",
        "# predict train result\n",
        "y_pred_train = classifier.predict(X_train)\n",
        "\n",
        "y_pred_train\n",
        "\n",
        "# predict test result\n",
        "y_pred_test = classifier.predict(X_test)\n",
        "\n",
        "y_pred_test\n",
        "\n",
        "# accuracy score for the test and train models\n",
        "print('Training-set accuracy score: {0:0.4f}%'. format(accuracy_score(y_train, y_pred_train)*100))\n",
        "print('Model accuracy score: {0:0.4f}%'. format(accuracy_score(y_test, y_pred_test)*100))"
      ]
    },
    {
      "cell_type": "markdown",
      "metadata": {},
      "source": [
        "### RANDOMFOREST"
      ]
    },
    {
      "cell_type": "code",
      "execution_count": 16,
      "metadata": {
        "colab": {
          "base_uri": "https://localhost:8080/"
        },
        "id": "ymc1vNTCILtP",
        "outputId": "0a0b8d6a-43a4-4cef-a588-7a003df69f9d"
      },
      "outputs": [
        {
          "name": "stdout",
          "output_type": "stream",
          "text": [
            "Cross-validation accuracy scores for each fold:  [1.         1.         0.99999844 0.99999844 1.        ]\n",
            "Mean cross-validation accuracy:  0.9999993747371942\n",
            "Standard deviation:  7.65787414618489e-07\n"
          ]
        }
      ],
      "source": [
        "from sklearn.ensemble import RandomForestClassifier\n",
        "from sklearn.model_selection import cross_val_score, KFold\n",
        "import numpy as np\n",
        "\n",
        "\n",
        "model = RandomForestClassifier(n_estimators=100, random_state=42)\n",
        "\n",
        "kf = KFold(n_splits=5, shuffle=True, random_state=42)\n",
        "\n",
        "cv_scores = cross_val_score(model, X, Y, cv=kf, scoring='accuracy')\n",
        "\n",
        "print(\"Cross-validation accuracy scores for each fold: \", cv_scores)\n",
        "print(\"Mean cross-validation accuracy: \", np.mean(cv_scores))\n",
        "print(\"Standard deviation: \", np.std(cv_scores))\n"
      ]
    },
    {
      "cell_type": "code",
      "execution_count": 36,
      "metadata": {
        "colab": {
          "base_uri": "https://localhost:8080/"
        },
        "id": "QqTPU97NOK61",
        "outputId": "1987effb-6d28-445e-bf08-57ed1fa5b77c"
      },
      "outputs": [
        {
          "name": "stdout",
          "output_type": "stream",
          "text": [
            "prediction --- > ['ddos']\n",
            "Prediction: ddos\n"
          ]
        }
      ],
      "source": [
        "import numpy as np\n",
        "import pandas as pd\n",
        "\n",
        "def predict_ddos(model, features):\n",
        "    feature_names = ['Flow Duration', 'Src IP', 'Src Port', 'Dst IP', 'Dst Port', 'Tot Fwd Pkts', 'Init Bwd Win Byts', 'Protocol']\n",
        "    features_df = pd.DataFrame([features], columns=feature_names)\n",
        "\n",
        "    prediction = rf.predict(features_df)\n",
        "\n",
        "    return prediction[0]\n",
        "\n",
        "sample_values = [3974862, 3232236662, 4504, 3410565195, 80, 29, 5840, 6]\n",
        "\n",
        "result = predict_ddos(model, sample_values)\n",
        "\n",
        "print(f\"Prediction: {result}\")\n"
      ]
    },
    {
      "cell_type": "code",
      "execution_count": 35,
      "metadata": {
        "colab": {
          "base_uri": "https://localhost:8080/",
          "height": 133
        },
        "id": "YroWfdP_IWQ4",
        "outputId": "b468a541-cdd9-4760-9a13-732d7eeacf8e"
      },
      "outputs": [
        {
          "data": {
            "application/vnd.google.colaboratory.intrinsic+json": {
              "type": "dataframe",
              "variable_name": "balance_data"
            },
            "text/html": [
              "\n",
              "  <div id=\"df-2c750e46-5981-43e7-8af2-8c690bf54cd9\" class=\"colab-df-container\">\n",
              "    <div>\n",
              "<style scoped>\n",
              "    .dataframe tbody tr th:only-of-type {\n",
              "        vertical-align: middle;\n",
              "    }\n",
              "\n",
              "    .dataframe tbody tr th {\n",
              "        vertical-align: top;\n",
              "    }\n",
              "\n",
              "    .dataframe thead th {\n",
              "        text-align: right;\n",
              "    }\n",
              "</style>\n",
              "<table border=\"1\" class=\"dataframe\">\n",
              "  <thead>\n",
              "    <tr style=\"text-align: right;\">\n",
              "      <th></th>\n",
              "      <th>Flow Duration</th>\n",
              "      <th>Src IP</th>\n",
              "      <th>Src Port</th>\n",
              "      <th>Dst IP</th>\n",
              "      <th>Dst Port</th>\n",
              "      <th>Tot Fwd Pkts</th>\n",
              "      <th>Init Bwd Win Byts</th>\n",
              "      <th>Protocol</th>\n",
              "      <th>Label</th>\n",
              "    </tr>\n",
              "  </thead>\n",
              "  <tbody>\n",
              "    <tr>\n",
              "      <th>0</th>\n",
              "      <td>3974862</td>\n",
              "      <td>3232236662</td>\n",
              "      <td>4504</td>\n",
              "      <td>3410565195</td>\n",
              "      <td>80</td>\n",
              "      <td>29</td>\n",
              "      <td>5840</td>\n",
              "      <td>6</td>\n",
              "      <td>ddos</td>\n",
              "    </tr>\n",
              "  </tbody>\n",
              "</table>\n",
              "</div>\n",
              "    <div class=\"colab-df-buttons\">\n",
              "\n",
              "  <div class=\"colab-df-container\">\n",
              "    <button class=\"colab-df-convert\" onclick=\"convertToInteractive('df-2c750e46-5981-43e7-8af2-8c690bf54cd9')\"\n",
              "            title=\"Convert this dataframe to an interactive table.\"\n",
              "            style=\"display:none;\">\n",
              "\n",
              "  <svg xmlns=\"http://www.w3.org/2000/svg\" height=\"24px\" viewBox=\"0 -960 960 960\">\n",
              "    <path d=\"M120-120v-720h720v720H120Zm60-500h600v-160H180v160Zm220 220h160v-160H400v160Zm0 220h160v-160H400v160ZM180-400h160v-160H180v160Zm440 0h160v-160H620v160ZM180-180h160v-160H180v160Zm440 0h160v-160H620v160Z\"/>\n",
              "  </svg>\n",
              "    </button>\n",
              "\n",
              "  <style>\n",
              "    .colab-df-container {\n",
              "      display:flex;\n",
              "      gap: 12px;\n",
              "    }\n",
              "\n",
              "    .colab-df-convert {\n",
              "      background-color: #E8F0FE;\n",
              "      border: none;\n",
              "      border-radius: 50%;\n",
              "      cursor: pointer;\n",
              "      display: none;\n",
              "      fill: #1967D2;\n",
              "      height: 32px;\n",
              "      padding: 0 0 0 0;\n",
              "      width: 32px;\n",
              "    }\n",
              "\n",
              "    .colab-df-convert:hover {\n",
              "      background-color: #E2EBFA;\n",
              "      box-shadow: 0px 1px 2px rgba(60, 64, 67, 0.3), 0px 1px 3px 1px rgba(60, 64, 67, 0.15);\n",
              "      fill: #174EA6;\n",
              "    }\n",
              "\n",
              "    .colab-df-buttons div {\n",
              "      margin-bottom: 4px;\n",
              "    }\n",
              "\n",
              "    [theme=dark] .colab-df-convert {\n",
              "      background-color: #3B4455;\n",
              "      fill: #D2E3FC;\n",
              "    }\n",
              "\n",
              "    [theme=dark] .colab-df-convert:hover {\n",
              "      background-color: #434B5C;\n",
              "      box-shadow: 0px 1px 3px 1px rgba(0, 0, 0, 0.15);\n",
              "      filter: drop-shadow(0px 1px 2px rgba(0, 0, 0, 0.3));\n",
              "      fill: #FFFFFF;\n",
              "    }\n",
              "  </style>\n",
              "\n",
              "    <script>\n",
              "      const buttonEl =\n",
              "        document.querySelector('#df-2c750e46-5981-43e7-8af2-8c690bf54cd9 button.colab-df-convert');\n",
              "      buttonEl.style.display =\n",
              "        google.colab.kernel.accessAllowed ? 'block' : 'none';\n",
              "\n",
              "      async function convertToInteractive(key) {\n",
              "        const element = document.querySelector('#df-2c750e46-5981-43e7-8af2-8c690bf54cd9');\n",
              "        const dataTable =\n",
              "          await google.colab.kernel.invokeFunction('convertToInteractive',\n",
              "                                                    [key], {});\n",
              "        if (!dataTable) return;\n",
              "\n",
              "        const docLinkHtml = 'Like what you see? Visit the ' +\n",
              "          '<a target=\"_blank\" href=https://colab.research.google.com/notebooks/data_table.ipynb>data table notebook</a>'\n",
              "          + ' to learn more about interactive tables.';\n",
              "        element.innerHTML = '';\n",
              "        dataTable['output_type'] = 'display_data';\n",
              "        await google.colab.output.renderOutput(dataTable, element);\n",
              "        const docLink = document.createElement('div');\n",
              "        docLink.innerHTML = docLinkHtml;\n",
              "        element.appendChild(docLink);\n",
              "      }\n",
              "    </script>\n",
              "  </div>\n",
              "\n",
              "\n",
              "    </div>\n",
              "  </div>\n"
            ],
            "text/plain": [
              "   Flow Duration      Src IP  Src Port      Dst IP  Dst Port  Tot Fwd Pkts  \\\n",
              "0        3974862  3232236662      4504  3410565195        80            29   \n",
              "\n",
              "   Init Bwd Win Byts  Protocol Label  \n",
              "0               5840         6  ddos  "
            ]
          },
          "execution_count": 35,
          "metadata": {},
          "output_type": "execute_result"
        }
      ],
      "source": [
        "balance_data.head(1)"
      ]
    },
    {
      "cell_type": "code",
      "execution_count": 39,
      "metadata": {
        "colab": {
          "base_uri": "https://localhost:8080/"
        },
        "id": "R5Aj683qPzm5",
        "outputId": "d840cd7a-c9af-4b50-cdbd-d30452bf39e3"
      },
      "outputs": [
        {
          "data": {
            "text/plain": [
              "['random_forest_model.pkl']"
            ]
          },
          "execution_count": 39,
          "metadata": {},
          "output_type": "execute_result"
        }
      ],
      "source": [
        "import joblib\n",
        "\n",
        "joblib.dump(rf, 'random_forest_model.pkl')\n"
      ]
    },
    {
      "cell_type": "code",
      "execution_count": null,
      "metadata": {},
      "outputs": [],
      "source": []
    },
    {
      "cell_type": "markdown",
      "metadata": {},
      "source": [
        "### <B>CROSS VALIDATION</B>"
      ]
    },
    {
      "cell_type": "code",
      "execution_count": 40,
      "metadata": {
        "colab": {
          "base_uri": "https://localhost:8080/",
          "height": 412
        },
        "id": "Q3jlHwruQ1aP",
        "outputId": "eea16dfb-61f8-49f0-98b8-6a65ce2b867b"
      },
      "outputs": [
        {
          "data": {
            "image/png": "[encoded data removed]",
            "text/plain": [
              "<Figure size 1000x600 with 1 Axes>"
            ]
          },
          "metadata": {},
          "output_type": "display_data"
        }
      ],
      "source": [
        "import matplotlib.pyplot as plt\n",
        "\n",
        "# Get feature importances\n",
        "importances = rf.feature_importances_\n",
        "feature_names = ['Flow Duration', 'Src IP', 'Src Port', 'Dst IP', 'Dst Port', 'Tot Fwd Pkts', 'Init Bwd Win Byts', 'Protocol']\n",
        "\n",
        "# Create a bar plot\n",
        "plt.figure(figsize=(10, 6))\n",
        "plt.barh(feature_names, importances)\n",
        "plt.xlabel('Feature Importance')\n",
        "plt.title('Feature Importance Analysis')\n",
        "plt.show()\n"
      ]
    },
    {
      "cell_type": "code",
      "execution_count": 42,
      "metadata": {
        "colab": {
          "base_uri": "https://localhost:8080/",
          "height": 472
        },
        "id": "hUktFjazQ6DU",
        "outputId": "7a4a5296-6888-4f39-9a25-733a89df6429"
      },
      "outputs": [
        {
          "data": {
            "image/png": "[encoded data removed]",
            "text/plain": [
              "<Figure size 640x480 with 2 Axes>"
            ]
          },
          "metadata": {},
          "output_type": "display_data"
        }
      ],
      "source": [
        "from sklearn.metrics import confusion_matrix, ConfusionMatrixDisplay\n",
        "\n",
        "y_pred = rf.predict(X_test)\n",
        "\n",
        "cm = confusion_matrix(y_test, y_pred)\n",
        "\n",
        "disp = ConfusionMatrixDisplay(confusion_matrix=cm, display_labels=['Benign', 'DDoS'])\n",
        "disp.plot(cmap=plt.cm.Blues)\n",
        "plt.title('Confusion Matrix')\n",
        "plt.show()\n"
      ]
    },
    {
      "cell_type": "code",
      "execution_count": 45,
      "metadata": {
        "colab": {
          "base_uri": "https://localhost:8080/",
          "height": 547
        },
        "id": "tTaBi5bHT_MQ",
        "outputId": "9fe57eb8-1558-4a49-9ca9-00d1e4f9a250"
      },
      "outputs": [
        {
          "data": {
            "image/png": "[encoded data removed]",
            "text/plain": [
              "<Figure size 800x600 with 1 Axes>"
            ]
          },
          "metadata": {},
          "output_type": "display_data"
        }
      ],
      "source": [
        "from sklearn.model_selection import learning_curve\n",
        "\n",
        "train_sizes, train_scores, test_scores = learning_curve(rf, X, Y, cv=5)\n",
        "\n",
        "# Mean and std for training and test scores\n",
        "train_mean = np.mean(train_scores, axis=1)\n",
        "test_mean = np.mean(test_scores, axis=1)\n",
        "train_std = np.std(train_scores, axis=1)\n",
        "test_std = np.std(test_scores, axis=1)\n",
        "\n",
        "# Plot learning curves\n",
        "plt.figure(figsize=(8, 6))\n",
        "plt.plot(train_sizes, train_mean, label='Training Score', color='blue')\n",
        "plt.plot(train_sizes, test_mean, label='Cross-Validation Score', color='orange')\n",
        "plt.fill_between(train_sizes, train_mean - train_std, train_mean + train_std, color='blue', alpha=0.1)\n",
        "plt.fill_between(train_sizes, test_mean - test_std, test_mean + test_std, color='orange', alpha=0.1)\n",
        "plt.title('Learning Curve')\n",
        "plt.xlabel('Training Size')\n",
        "plt.ylabel('Score')\n",
        "plt.legend()\n",
        "plt.grid()\n",
        "plt.show()\n"
      ]
    },
    {
      "cell_type": "code",
      "execution_count": 46,
      "metadata": {
        "colab": {
          "base_uri": "https://localhost:8080/",
          "height": 432
        },
        "id": "jEsoE7Oma4Z-",
        "outputId": "d9f80839-d123-4658-8151-ad403ad36bd5"
      },
      "outputs": [
        {
          "data": {
            "image/png": "[encoded data removed]",
            "text/plain": [
              "<Figure size 800x400 with 1 Axes>"
            ]
          },
          "metadata": {},
          "output_type": "display_data"
        },
        {
          "name": "stdout",
          "output_type": "stream",
          "text": [
            "Mean Cross-Validation Accuracy: 0.8895823929453945\n",
            "Standard Deviation: 0.1512028555414319\n"
          ]
        }
      ],
      "source": [
        "from sklearn.model_selection import cross_val_score\n",
        "\n",
        "cv_scores = cross_val_score(rf, X, Y, cv=5)\n",
        "\n",
        "plt.figure(figsize=(8, 4))\n",
        "plt.plot(cv_scores, marker='o')\n",
        "plt.title('Cross-Validation Scores')\n",
        "plt.xlabel('Fold')\n",
        "plt.ylabel('Accuracy')\n",
        "plt.ylim(0, 1)\n",
        "plt.grid()\n",
        "plt.show()\n",
        "\n",
        "print(f'Mean Cross-Validation Accuracy: {np.mean(cv_scores)}')\n",
        "print(f'Standard Deviation: {np.std(cv_scores)}')\n"
      ]
    }
  ],
  "metadata": {
    "accelerator": "GPU",
    "colab": {
      "gpuType": "T4",
      "provenance": []
    },
    "kernelspec": {
      "display_name": "Python 3",
      "name": "python3"
    },
    "language_info": {
      "name": "python"
    }
  },
  "nbformat": 4,
  "nbformat_minor": 0
}
